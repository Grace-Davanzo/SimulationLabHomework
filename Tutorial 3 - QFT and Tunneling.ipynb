{
 "cells": [
  {
   "cell_type": "code",
   "execution_count": 1,
   "metadata": {},
   "outputs": [],
   "source": [
    "import warnings\n",
    "warnings.filterwarnings('ignore', category=DeprecationWarning)"
   ]
  },
  {
   "cell_type": "code",
   "execution_count": 2,
   "metadata": {},
   "outputs": [],
   "source": [
    "#%matplotlib notebook\n",
    "\n",
    "import numpy as np\n",
    "from numpy import pi\n",
    "import matplotlib.pyplot as plt\n",
    "from mpl_toolkits import mplot3d\n",
    "import mpl_toolkits.mplot3d.art3d as art3d"
   ]
  },
  {
   "cell_type": "code",
   "execution_count": 3,
   "metadata": {},
   "outputs": [],
   "source": [
    "from qiskit import QuantumCircuit, QuantumRegister, ClassicalRegister\n",
    "import qiskit_aer\n",
    "from qiskit.quantum_info import Statevector\n",
    "from qiskit_aer import AerSimulator\n",
    "from qiskit.visualization import plot_bloch_multivector"
   ]
  },
  {
   "cell_type": "markdown",
   "metadata": {
    "slideshow": {
     "slide_type": "slide"
    }
   },
   "source": [
    "# QFT and Tunneling"
   ]
  },
  {
   "cell_type": "markdown",
   "metadata": {
    "slideshow": {
     "slide_type": "fragment"
    }
   },
   "source": [
    "In this tutorial, we will write code to do quantum tunneling with a discretization into 8 parts (instead of 4). This will require $2^3$ states, or 3 qubits in total.\n",
    "\n",
    "We will start with the free particle case first to make sure everything is working.\n",
    "\n",
    "\n",
    "\n"
   ]
  },
  {
   "cell_type": "markdown",
   "metadata": {},
   "source": [
    "## Step 1: Write out QFT algorithm"
   ]
  },
  {
   "cell_type": "code",
   "execution_count": null,
   "metadata": {},
   "outputs": [],
   "source": [
    "# Start by definiting the fourier transform and the inverse transform.\n",
    "# You're welcome to either hard code this for 3 qubits or write a general function\n",
    "\n",
    "def F(qc):\n",
    "    \"\"\"Your code here\"\"\"\n",
    "    return qc\n",
    "\n",
    "def F_inv(qc):\n",
    "    \"\"\"Your code here\"\"\"\n",
    "    return qc  \n"
   ]
  },
  {
   "cell_type": "code",
   "execution_count": null,
   "metadata": {},
   "outputs": [],
   "source": [
    "# Just to make sure it is all working\n",
    "\n",
    "qc_F = QuantumCircuit(2)\n",
    "F(qc_F)\n",
    "qc_F.draw(output='mpl')"
   ]
  },
  {
   "cell_type": "code",
   "execution_count": null,
   "metadata": {},
   "outputs": [],
   "source": []
  },
  {
   "cell_type": "markdown",
   "metadata": {},
   "source": [
    "## Step 2: Define our diagonal matrix for the simulation"
   ]
  },
  {
   "cell_type": "code",
   "execution_count": null,
   "metadata": {},
   "outputs": [],
   "source": [
    "# Defining the diagonal e^{-iKt} matrix\n",
    "def D(qc, theta0, theta1, theta2):\n",
    "    \"\"\"Apply the D operation\"\"\"\n",
    "    return qc"
   ]
  },
  {
   "cell_type": "markdown",
   "metadata": {},
   "source": [
    "## Step 3: Put together the kinetic portion to run a quick simulation"
   ]
  },
  {
   "cell_type": "code",
   "execution_count": null,
   "metadata": {},
   "outputs": [],
   "source": [
    "# Setting the parameters for the system\n",
    "delta_t = \n",
    "theta0 =\n",
    "theta1 = \n",
    "theta2 =\n",
    "\n",
    "# Initializing the circuit\n",
    "# Create the quantum circuit\n",
    "\n",
    "\n",
    "\n",
    "# We create an initial state, making our |psi(x, 0)> = |001>\n",
    "\n",
    "# Apply our kinetic evolution\n",
    "\n",
    "# Now let's apply a measurement.\n",
    "\n",
    "# Draw out the circuit\n"
   ]
  },
  {
   "cell_type": "code",
   "execution_count": null,
   "metadata": {},
   "outputs": [],
   "source": [
    "# Run your quantum circuit runs.\n"
   ]
  },
  {
   "cell_type": "markdown",
   "metadata": {
    "slideshow": {
     "slide_type": "fragment"
    }
   },
   "source": [
    "## Step 4 (if time): Adding a potential\n",
    "\n",
    "Here, you can choose what kind of potential you want to implement. You can again do a double well, or you can do more wells."
   ]
  },
  {
   "cell_type": "code",
   "execution_count": null,
   "metadata": {},
   "outputs": [],
   "source": [
    "def V(qc, v_0, delta_t):\n",
    "    \"\"\"Write in the function to apply the potential term\"\"\"\n",
    "    return qc\n",
    "\n",
    "# This function will do the full evolution!\n",
    "def apply_evo(qc, v_0, delta_t, theta0, theta1, theta2):\n",
    "    \"\"\"Write in the function to apply the full evolution.\"\"\"\n",
    "    return qc\n"
   ]
  },
  {
   "cell_type": "code",
   "execution_count": null,
   "metadata": {},
   "outputs": [],
   "source": [
    "# Necessary Constants and parameters\n",
    "delta_t = \n",
    "theta0 =\n",
    "theta1 = \n",
    "theta2 = \n",
    "time_steps = \n",
    "v_0 =\n",
    "\n",
    "# Initializing the circuit\n",
    "# Create the quantum and classical register, and then the circuit.\n",
    "\n",
    "\n",
    "# Create the initial state. We start in |01>\n",
    "\n",
    "\n",
    "# We will apply the steps with a loop so we can\n",
    "# indicate the number of time steps. \n",
    "\n",
    "\n",
    "\n",
    "\n",
    "\n",
    "#print(qc2.draw())\n",
    "\n",
    "backend = BasicAer.get_backend('qasm_simulator') \n",
    "counts2 = execute(qc2, backend, shots=1024).result().get_counts()\n",
    "plot_histogram(counts2, title = \"V_0 = \" + str(v_0) + \", delta t = \" + str(delta_t) + \", time steps = \" + str(time_steps))"
   ]
  },
  {
   "cell_type": "code",
   "execution_count": null,
   "metadata": {},
   "outputs": [],
   "source": []
  }
 ],
 "metadata": {
  "celltoolbar": "Slideshow",
  "kernelspec": {
   "display_name": "Python 3 (ipykernel)",
   "language": "python",
   "name": "python3"
  },
  "language_info": {
   "codemirror_mode": {
    "name": "ipython",
    "version": 3
   },
   "file_extension": ".py",
   "mimetype": "text/x-python",
   "name": "python",
   "nbconvert_exporter": "python",
   "pygments_lexer": "ipython3",
   "version": "3.12.9"
  },
  "rise": {
   "enable_chalkboard": true,
   "height": "90%",
   "scroll": true,
   "width": "100%"
  },
  "widgets": {
   "application/vnd.jupyter.widget-state+json": {
    "state": {},
    "version_major": 2,
    "version_minor": 0
   }
  }
 },
 "nbformat": 4,
 "nbformat_minor": 4
}
