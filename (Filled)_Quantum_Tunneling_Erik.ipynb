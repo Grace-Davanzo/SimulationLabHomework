{
 "cells": [
  {
   "cell_type": "markdown",
   "metadata": {
    "slideshow": {
     "slide_type": "slide"
    }
   },
   "source": [
    "# Quantum Simulation of the Schrodinger Equation\n",
    "\n",
    "\n",
    "PHYS UN3081\n",
    "\n",
    "Prof. Sebastian Will\n",
    "\n",
    "Created by Joseph Lee\n",
    "\n",
    "\n",
    "Last editted 02/26/25 by Erik Lundstrum"
   ]
  },
  {
   "cell_type": "markdown",
   "metadata": {
    "slideshow": {
     "slide_type": "subslide"
    }
   },
   "source": [
    "\n",
    "# Quantum Tunneling\n",
    "\n",
    "In this lecture, we will discuss how we can use a quantum computer to simulate quantum tunneling. *This concept will require knowledge of the quantum fourier transform.*"
   ]
  },
  {
   "cell_type": "markdown",
   "metadata": {
    "slideshow": {
     "slide_type": "subslide"
    }
   },
   "source": [
    "# Today's Topics\n",
    "\n",
    "\"Experimental simulation of quantum tunneling in small systems\" (Feng et al., 2013)\n",
    "https://www.nature.com/articles/srep02232.pdf\n",
    "\n",
    "*Note: This paper using some different ordering conventions, so while the physics is the same, this lecture will follow more closely a convention you have worked with!*\n",
    "\n",
    "\n",
    "1) Time Evolution\n",
    "\n",
    "     1a) Suzuki-Trotter Formula\n",
    "    \n",
    "2) The Double Well\n",
    "\n",
    "3) Mapping the Problem to a Quantum Computer\n",
    "\n",
    "    3a) The Kinetic Term\n",
    "\n",
    "    3b) The Potential Term\n",
    "    \n"
   ]
  },
  {
   "cell_type": "markdown",
   "metadata": {
    "slideshow": {
     "slide_type": "slide"
    }
   },
   "source": [
    "# Time Evolution\n",
    "\n",
    "\n",
    "In quantum mechanics, time evolution is given by the Schrodinger equation:\n",
    "\n",
    "$$ i \\hbar \\frac{\\partial }{\\partial t} |\\psi(x,t) \\rangle = \\hat{H} | \\psi (x,t) \\rangle $$\n"
   ]
  },
  {
   "cell_type": "markdown",
   "metadata": {
    "slideshow": {
     "slide_type": "fragment"
    }
   },
   "source": [
    "**Q:** *If our system has a **time-independent** Hamiltonian, if we are given a state $ | \\psi(x, 0) \\rangle$, how does it evolve in time?*"
   ]
  },
  {
   "cell_type": "markdown",
   "metadata": {
    "slideshow": {
     "slide_type": "fragment"
    }
   },
   "source": [
    "$$ | \\psi(x, t) \\rangle = e^{-i\\hat{H}t/\\hbar}| \\psi(x, 0) \\rangle $$\n",
    "\n"
   ]
  },
  {
   "cell_type": "markdown",
   "metadata": {
    "slideshow": {
     "slide_type": "subslide"
    }
   },
   "source": [
    "**Q:** *If we are in an eigenstate of $\\hat{H}$, how do we evolve in time?*\n",
    "    "
   ]
  },
  {
   "cell_type": "markdown",
   "metadata": {
    "slideshow": {
     "slide_type": "fragment"
    }
   },
   "source": [
    "For the $n$th energy eigenstate, we have:\n",
    "\n",
    "$$ |n(t) \\rangle = e^{-iE_n t/\\hbar}|n(0)\\rangle$$\n",
    "\n",
    "For example,if we had the ground state of the Harmonic oscillator ($E_0 = \\hbar\\omega/2$), our state would be:\n",
    "\n",
    "$$ |n=0, t \\rangle = e^{-i\\omega t/2}| n=0, t=0 \\rangle $$"
   ]
  },
  {
   "cell_type": "markdown",
   "metadata": {
    "slideshow": {
     "slide_type": "fragment"
    }
   },
   "source": [
    "In certain cases, we will be able to simulate the time evolution of a particle in real space."
   ]
  },
  {
   "cell_type": "markdown",
   "metadata": {
    "slideshow": {
     "slide_type": "slide"
    }
   },
   "source": [
    "# Time Evolution\n",
    "\n",
    "Let's assume that our Hamiltonian can be broken into some kinetic part and potential part. \n",
    "\n",
    "$$ \\hat{H} = \\hat{K} + \\hat{V} $$\n",
    "\n",
    "Note that many of the problems you have seen in quantum mechanics courses have taken this form.\n"
   ]
  },
  {
   "cell_type": "markdown",
   "metadata": {
    "slideshow": {
     "slide_type": "fragment"
    }
   },
   "source": [
    "For example, the harmonic oscillator had a hamiltonian in the form:\n",
    "    \n",
    "$$ \\hat{H} = \\frac{\\hat{p}^2}{2m} + \\frac{1}{2}m\\omega^2 x^2$$"
   ]
  },
  {
   "cell_type": "markdown",
   "metadata": {
    "slideshow": {
     "slide_type": "slide"
    }
   },
   "source": [
    "# Suzuki-Trotter\n",
    "\n",
    "In general, any state that is evolved some $\\Delta t$ can be written as\n",
    "$$ | \\psi(x, t + \\Delta t) \\rangle = e^{-i\\hat{H}\\Delta t} | \\psi(x, t )\\rangle = e^{-i(\\hat{K} + \\hat{V})\\Delta t} | \\psi(x, t ) \\rangle $$\n",
    "\n",
    "(We have set $\\hbar = 1$.)\n"
   ]
  },
  {
   "cell_type": "markdown",
   "metadata": {
    "slideshow": {
     "slide_type": "fragment"
    }
   },
   "source": [
    "However, it can be difficult to actually simulate this on a quantum computer. In order to deal with this, our goal is to split up our exponential into one exponential of $\\hat{K}$ and one exponential of $\\hat{V}$."
   ]
  },
  {
   "cell_type": "markdown",
   "metadata": {
    "slideshow": {
     "slide_type": "subslide"
    }
   },
   "source": [
    "# Suzuki-Trotter Short Proof\n",
    "\n",
    "Our time evolution term takes the form: \n",
    "\n",
    "$$ e^{-i\\hat{H}t} = e^{-i(\\hat{K}+\\hat{V})t} $$\n"
   ]
  },
  {
   "cell_type": "markdown",
   "metadata": {
    "slideshow": {
     "slide_type": "fragment"
    }
   },
   "source": [
    "**NOTE!** Generally, for operators:\n",
    "\n",
    "$$ e^{-i(\\hat{K}+\\hat{V})t} \\neq e^{-i\\hat{K}t}e^{-i\\hat{V}t}$$\n",
    "\n",
    "This is because operators don't generally commute. "
   ]
  },
  {
   "cell_type": "markdown",
   "metadata": {
    "slideshow": {
     "slide_type": "fragment"
    }
   },
   "source": [
    "As a reminder, note that the general matrix exponential is given as:\n",
    "\n",
    "$$ e^A = \\sum_{k=0}^\\infty \\frac{A^k}{k!}$$"
   ]
  },
  {
   "cell_type": "markdown",
   "metadata": {
    "slideshow": {
     "slide_type": "subslide"
    }
   },
   "source": [
    "The proper expansion of the exponential of $\\hat{K}+\\hat{V}$ is:\n",
    "\n",
    "$$ \\begin{aligned} e^{-i(\\hat{K}+\\hat{V})t} &= 1 + (-it)(\\hat{K}+\\hat{V}) + \\frac{1}{2}(-it)^2(\\hat{K}+\\hat{V})^2 + O(t^3) \\\\\n",
    "&= 1 + (-it)(\\hat{K}+\\hat{V}) + \\frac{1}{2}(-it)^2[\\hat{K}^2 + \\hat{K}\\hat{V} + \\hat{V}\\hat{K} + \\hat{V}^2] + O(t^3)\n",
    "\\end{aligned}$$\n",
    "\n",
    "($1$ here is the identity operator)"
   ]
  },
  {
   "cell_type": "markdown",
   "metadata": {
    "slideshow": {
     "slide_type": "fragment"
    }
   },
   "source": [
    "\n",
    "Let's compare this to the quantity $e^{-i\\hat{K}t}e^{-i\\hat{V}t}$. This product of exponentials can be expanded as:\n",
    "$$ \\begin{aligned} e^{-i\\hat{K}t}e^{-i\\hat{V}t} &= (1 + (-it)\\hat{K} + \\frac{1}{2}(-it)^2\\hat{K}^2 + ... )(1 + (-it)\\hat{V} + \\frac{1}{2}(-it)^2\\hat{V}^2 + ... ) \\\\\n",
    "&= 1 + (-it)(\\hat{K}+\\hat{V}) + \\frac{1}{2}(-it)^2(\\hat{K}^2 + 2\\hat{K}\\hat{V} + \\hat{V}^2) + O(t^3) \n",
    "\\end{aligned}$$  \n"
   ]
  },
  {
   "cell_type": "markdown",
   "metadata": {
    "slideshow": {
     "slide_type": "subslide"
    }
   },
   "source": [
    "\n",
    "Note that we can view our approximation as the proper time evolution with some corrections in the exponential.\n",
    "\n",
    "$$ e^{-i\\hat{K}t}e^{-i\\hat{V}t} = e^{-i(\\hat{K}+\\hat{V})t + \\frac{1}{2} (-it)^2[\\hat{K}, \\hat{V}] + O(t^3)}$$\n",
    "\n"
   ]
  },
  {
   "cell_type": "markdown",
   "metadata": {
    "slideshow": {
     "slide_type": "fragment"
    }
   },
   "source": [
    "Thus, $ e^{-i(\\hat{K}+\\hat{V})t} \\approx e^{-i\\hat{K}t} e^{-i\\hat{V}t} $ is a good approximation if $\\frac{1}{2} (-it)^2[\\hat{K}, \\hat{V}]$ is small, and if $\\Delta t$ is small, with equality if $[\\hat{K}, \\hat{V}] = 0$.  \n",
    "\n",
    "It's important to keep $t$, or in our case, $\\Delta t$, small. However, we should also recognize that $[\\hat{K},\\hat{V}]$ must be small as well.\n",
    "\n"
   ]
  },
  {
   "cell_type": "markdown",
   "metadata": {
    "slideshow": {
     "slide_type": "slide"
    }
   },
   "source": [
    "# The Double Well\n",
    "\n",
    "The problem we will consider is that of the **double well** - two finite square wells right next to each other. We will also assume that we have **periodic boundary conditions**.\n",
    "\n",
    "\n",
    "<img src=\"Tunneling Images/Double Well.png\">"
   ]
  },
  {
   "cell_type": "markdown",
   "metadata": {
    "slideshow": {
     "slide_type": "subslide"
    }
   },
   "source": [
    "While we could solve this problem analytically from Schrodinger's equation, let's try to intuit the results. Suppose our particle starts in one of the wells.\n",
    "\n",
    "\n",
    "<img src=\"Tunneling Images/Double Well Step 1.png\">"
   ]
  },
  {
   "cell_type": "markdown",
   "metadata": {
    "slideshow": {
     "slide_type": "fragment"
    }
   },
   "source": [
    "**Q**: As time goes on, what do you suspect will happen?"
   ]
  },
  {
   "cell_type": "markdown",
   "metadata": {
    "slideshow": {
     "slide_type": "subslide"
    }
   },
   "source": [
    "The particle may tunnel through the barrier and end up in the other well! \n",
    "\n",
    "<img src=\"Tunneling Images/Double Well Step 2.png\">\n",
    "\n",
    "We expect that this will happen back and forth, so the particle will always end up in one of the two wells. "
   ]
  },
  {
   "cell_type": "markdown",
   "metadata": {
    "slideshow": {
     "slide_type": "slide"
    }
   },
   "source": [
    "# Mapping the Problem to a Quantum Circuit\n",
    "\n",
    "<img src=\"Tunneling Images/Full_Circuit.png\">\n",
    "\n",
    "In order to simulate time evolution on a quantum computer, we would need a way to initialize the initial state, apply the time evolution, and then measure the resulting state. \n",
    "\n",
    "In this lecture, we will start by considering the Free Particle. We will then add the potential term!"
   ]
  },
  {
   "cell_type": "markdown",
   "metadata": {
    "slideshow": {
     "slide_type": "subslide"
    }
   },
   "source": [
    "To create the initial state, we choose a representation in which the position space, bounded by some interval $[0, L]$, is discretizes into segments. Potentials for the time evolution will be applied as single qubit Z-rotations. To implement the time evolution proportional to the kinetic term, we use the Quantum Fourier Transform (QFT) to work in momentum space. \n",
    "\n",
    "\n",
    "<img src=\"Tunneling Images/Space Line.png\">"
   ]
  },
  {
   "cell_type": "markdown",
   "metadata": {
    "slideshow": {
     "slide_type": "slide"
    }
   },
   "source": [
    "# Discretization of Space \n",
    "\n",
    "Representing continuous space in a quantum circuit may initially not be very obvious. The way we do so for this simulation is the following. Our goal is to map this problem to some $n$-qubit circuit. Consider a spatial interval of length $L$, given by $[0, L]$. Further assume that we have periodic boundary conditions on the wave function. \n",
    "\n",
    "That is: $ | \\psi(x, t) \\rangle = | \\psi(x + L, t) \\rangle$. "
   ]
  },
  {
   "cell_type": "markdown",
   "metadata": {
    "slideshow": {
     "slide_type": "fragment"
    }
   },
   "source": [
    "\n",
    "We can fix some interval, $\\Delta l = L / 2^n$. We can express the wavefunction as:\n",
    "\n",
    "$$  | \\psi (x, t) \\rangle = \\sum_{j=0}^{2^n - 1} \\psi (x_j, t) | j \\rangle_x$$\n"
   ]
  },
  {
   "cell_type": "markdown",
   "metadata": {
    "slideshow": {
     "slide_type": "subslide"
    }
   },
   "source": [
    "\n",
    "In the quantum circuits, express $| j \\rangle$ in binary. The best way to see how this works is by example. \n",
    "\n",
    "Consider a case in which we discretize our space using $n=2$ qubits. Then, our space will be discretized into four intervals. We can express our wavefunction as:\n",
    "\n",
    "$$ | \\psi (x, t) \\rangle = \\psi (x_0, t) | 00 \\rangle + \\psi (x_1, t) | 01 \\rangle +\\psi (x_2, t) | 10 \\rangle + \\psi (x_3, t) | 11 \\rangle$$ \n",
    "\n",
    "Note that the $j$ value in the kets correspond to the same $j$ that subscript the $x$. ($1 = 1$ in binary, $2 = 10$ in binary, etc.) \n"
   ]
  },
  {
   "cell_type": "markdown",
   "metadata": {
    "slideshow": {
     "slide_type": "fragment"
    }
   },
   "source": [
    "<img src=\"Tunneling Images/psi x.png\">"
   ]
  },
  {
   "cell_type": "markdown",
   "metadata": {
    "slideshow": {
     "slide_type": "fragment"
    }
   },
   "source": [
    "One way to approximate the above is or the entirely of $\\psi(x_j)$ to be a constant. This is what we will end up doing on our quantum circuit. \n",
    "\n",
    "<img src=\"Tunneling Images/psi x estimate.png\">"
   ]
  },
  {
   "cell_type": "markdown",
   "metadata": {
    "slideshow": {
     "slide_type": "subslide"
    }
   },
   "source": [
    "# Discretization of Momentum\n",
    "\n",
    "We can similarly do this in momentum space. Let $| j \\rangle_p$ represent the momentum basis. We can express a general state, $| \\psi(p, t)\\rangle$ as:\n",
    "\n",
    "$$ | \\psi(p, t)\\rangle = \\sum_{j=0}^{2^n - 1} \\phi(p_j, t) | j\\rangle = \\phi (p_0, t) | 0\\rangle_p + \\phi (p_1, t) | 1 \\rangle_p +\\phi (p_2, t) | 2 \\rangle_p + \\phi (p_3, t) | 3 \\rangle_p$$\n",
    "\n"
   ]
  },
  {
   "cell_type": "markdown",
   "metadata": {
    "slideshow": {
     "slide_type": "fragment"
    }
   },
   "source": [
    "From the quantum fourier transform, we find that generally define a piecewise definition of $p_j$:\n",
    "\n",
    "$$ p_j = 2\\pi j/2^n $$ for $0\\leq j \\leq 2^{n-1}$ \n",
    "$$p_j = 2\\pi (2^{n-1}-j)/2^n$$ for $2^{n-1} < j < 2^n$.\n",
    "\n",
    "\n"
   ]
  },
  {
   "cell_type": "markdown",
   "metadata": {
    "slideshow": {
     "slide_type": "subslide"
    }
   },
   "source": [
    "This means that our momentum operator in momentum space, $\\hat{P_p}$, can be written as:\n",
    "\n",
    "$$ \\hat{P}_p = \\sum_{p_j}p_j|j\\rangle_p \\langle j |_p = 0 |0\\rangle_p \\langle 0|_p + \\frac{\\pi}{2} |1\\rangle_p \\langle 1|_p + \\pi |2\\rangle_p \\langle 2|_p - \\frac{\\pi}{2} |3\\rangle_p \\langle 3|_p $$\n",
    "\n"
   ]
  },
  {
   "cell_type": "markdown",
   "metadata": {
    "slideshow": {
     "slide_type": "subslide"
    }
   },
   "source": [
    "**Q**: *What are our position space states in terms of our momentum space states?* (Maybe just calculate $|0\\rangle_x$)"
   ]
  },
  {
   "cell_type": "markdown",
   "metadata": {
    "slideshow": {
     "slide_type": "fragment"
    }
   },
   "source": [
    "$$ | 0 \\rangle_x \\rightarrow \\frac{1}{2}(|0\\rangle_p + |1 \\rangle_p  + |2 \\rangle_p  + |3 \\rangle_p ) $$\n",
    "$$ | 1 \\rangle_x \\rightarrow \\frac{1}{2}(|0\\rangle_p  + e^{\\pi i/2}|1 \\rangle_p  + e^{\\pi i}|2 \\rangle_p  + e^{3\\pi i/2}|3 \\rangle_p ) $$\n",
    "$$ | 2 \\rangle_x \\rightarrow \\frac{1}{2}(|0\\rangle_p  + e^{\\pi i}|1 \\rangle_p  + e^{2\\pi i}|2 \\rangle_p  + e^{3\\pi i}|3 \\rangle_p ) $$\n",
    "$$ | 3 \\rangle_x \\rightarrow \\frac{1}{2}(|0\\rangle_p  + e^{3\\pi i/2}|1 \\rangle_p  + e^{3\\pi i}|2 \\rangle_p  + e^{9\\pi i/2}|3\\rangle_p ) $$\n"
   ]
  },
  {
   "cell_type": "markdown",
   "metadata": {
    "slideshow": {
     "slide_type": "subslide"
    }
   },
   "source": [
    "# The Kinetic Energy Operator\n",
    "\n",
    "We have shown that we can represent our momentum operator in momentum space as:\n",
    "\n",
    "$$ \\hat{P}_p = 0 |0\\rangle_p \\langle 0|_p + \\frac{\\pi}{2} |1\\rangle_p \\langle 1|_p + \\pi |2\\rangle_p \\langle 2|_p - \\frac{\\pi}{2} |3\\rangle_p \\langle 3|_p $$\n",
    "\n",
    "This operator can be expressed as a *diagonal matrix* in the momentum basis. Just like before when we discretized space, the state $|j\\rangle_p$ corresponds to the many-body qubit state that corresponds to $j$ in binary. Just like real space, our momentum space is discretized. \n"
   ]
  },
  {
   "cell_type": "markdown",
   "metadata": {
    "slideshow": {
     "slide_type": "fragment"
    }
   },
   "source": [
    "$$ \\hat{P}_p = \\begin{bmatrix} 0 & 0 & 0 & 0\\\\  0 & \\pi/2 & 0 & 0\\\\ 0 & 0 & \\pi & 0 \\\\ 0 & 0 & 0 & -\\pi/2 \\end{bmatrix} $$"
   ]
  },
  {
   "cell_type": "markdown",
   "metadata": {
    "slideshow": {
     "slide_type": "subslide"
    }
   },
   "source": [
    "This would then allow us to write $\\hat{P}_p^2$ as:\n",
    "    \n",
    "$$ \\hat{P}_p^2 = \\begin{bmatrix} 0 & 0 & 0 & 0\\\\  0 & \\pi^2/4 & 0 & 0\\\\ 0 & 0 & \\pi^2 & 0 \\\\ 0 & 0 & 0 & \\pi^2/4 \\end{bmatrix} $$"
   ]
  },
  {
   "cell_type": "markdown",
   "metadata": {
    "slideshow": {
     "slide_type": "fragment"
    }
   },
   "source": [
    "Recall that our goal is to find a way to express $e^{-iK\\Delta t}$ on a quantum circuit. The kinetic term of the Hamiltonian is given as:\n",
    "\n",
    "$$ \\hat{K} = \\frac{\\hat{p}^2}{2m}$$\n"
   ]
  },
  {
   "cell_type": "markdown",
   "metadata": {
    "slideshow": {
     "slide_type": "subslide"
    }
   },
   "source": [
    "Thus, if we set $m = 1/2$ (by choice), then we can express $e^{-i\\hat{K}\\Delta t} = e^{-i\\hat{P}_p^2 \\Delta t}$ as:\n",
    "\n",
    "$$ e^{i\\hat{P}_p^2 \\Delta t} = \\begin{bmatrix} 1 & 0 & 0 & 0\\\\  0 & e^{-\\frac{\\pi^2}{4} i\\Delta t } & 0 & 0\\\\ 0 & 0 & e^{-\\pi^2 i\\Delta t }  & 0 \\\\ 0 & 0 & 0 & e^{-\\frac{\\pi^2}{4} i\\Delta t }  \\end{bmatrix} $$"
   ]
  },
  {
   "cell_type": "markdown",
   "metadata": {
    "slideshow": {
     "slide_type": "subslide"
    }
   },
   "source": [
    "# The Kinetic Operator\n",
    "\n",
    "We can express our exponential operator as follows: \n",
    "\n",
    "<img src=\"Tunneling Images/Kinetic_Circuit.png\">"
   ]
  },
  {
   "cell_type": "markdown",
   "metadata": {
    "slideshow": {
     "slide_type": "fragment"
    }
   },
   "source": [
    "Note that the two outside blocks are just the Quantum Fourier Transform. We are concerned with the center term, the diagonal term. \n",
    "\n"
   ]
  },
  {
   "cell_type": "markdown",
   "metadata": {
    "slideshow": {
     "slide_type": "fragment"
    }
   },
   "source": [
    "Our three gates here can be represented as:\n",
    "\n",
    "$$ R_{z, 0}(\\theta_0) = R_z(\\theta_0)\\otimes I = \\begin{bmatrix} 1 & 0 & 0 & 0 \\\\ 0 & 1 & 0 & 0 \\\\ 0 & 0 & e^{i\\theta_0} & 0 \\\\ 0 & 0 & 0 & e^{i\\theta_0}  \\end{bmatrix} $$\n",
    "\n",
    "$$ R_{z, 1}(\\theta_1) = I \\otimes R_z(\\theta_1) = \\begin{bmatrix} 1 & 0 & 0 & 0 \\\\ 0 & e^{i\\theta_1} & 0 & 0 \\\\ 0 & 0 & 1 & 0 \\\\ 0 & 0 & 0 & e^{i\\theta_1} \\end{bmatrix} $$\n",
    "\n",
    "$$ CP(\\theta_2)  = \\begin{bmatrix} 1 & 0 & 0 & 0 \\\\ 0 & 1 & 0 & 0 \\\\ 0 & 0 & 1 & 0 \\\\ 0 & 0 & 0 & e^{i\\theta_2}  \\end{bmatrix} $$\n",
    "\n",
    "\n",
    "where the $R_z(\\phi)$ gate is $R_z(\\phi) = \\begin{bmatrix} 1 & 0 \\\\ 0 & e^{i\\phi}\\end{bmatrix}$\n"
   ]
  },
  {
   "cell_type": "markdown",
   "metadata": {
    "slideshow": {
     "slide_type": "fragment"
    }
   },
   "source": [
    "If we multiply these matrices together for the total operator, we return:\n",
    "\n",
    "$$ D = \\begin{bmatrix}   1 & 0 & 0 & 0 \\\\ 0 & e^{i\\theta_1} & 0 & 0 \\\\ 0 & 0 & e^{i\\theta_0} & 0 \\\\ 0 & 0 & 0 & e^{i\\theta_0 + i\\theta_1 + i\\theta_2} \\end{bmatrix} $$\n",
    "\n",
    "(We take the product in the order $CP(\\theta_2) R_{z,0}(\\theta_0) R_{z,1}(\\theta_1)$. The order of the single qubit rotations can be flipped, but we put our earliest operation on the right because that's the gate that would be applied to our state first.)"
   ]
  },
  {
   "cell_type": "markdown",
   "metadata": {
    "slideshow": {
     "slide_type": "fragment"
    }
   },
   "source": [
    "We can then solve for our thetas by equating this to our desired $e^{-i\\hat{K}\\Delta t}$!"
   ]
  },
  {
   "cell_type": "markdown",
   "metadata": {
    "slideshow": {
     "slide_type": "subslide"
    }
   },
   "source": [
    "$$ e^{i\\hat{P}_p^2 \\Delta t} = \\begin{bmatrix} 1 & 0 & 0 & 0\\\\  0 & e^{-\\frac{\\pi^2}{4} i\\Delta t } & 0 & 0\\\\ 0 & 0 & e^{-\\pi^2 i\\Delta t }  & 0 \\\\ 0 & 0 & 0 & e^{-\\frac{\\pi^2}{4} i\\Delta t }  \\end{bmatrix} = D = \\begin{bmatrix}   1 & 0 & 0 & 0 \\\\ 0 & e^{i\\theta_1} & 0 & 0 \\\\ 0 & 0 & e^{i\\theta_0} & 0 \\\\ 0 & 0 & 0 & e^{i\\theta_0 + i\\theta_1 + i\\theta_2} \\end{bmatrix} $$"
   ]
  },
  {
   "cell_type": "markdown",
   "metadata": {
    "slideshow": {
     "slide_type": "fragment"
    }
   },
   "source": [
    "Solving for the thetas yield:\n",
    "\n",
    "$$ \\theta_0 = -\\pi^2 \\Delta t$$\n",
    "$$ \\theta_1 = -\\frac{\\pi^2}{4} \\Delta t$$\n",
    "$$ \\theta_2 = \\pi^2 \\Delta t$$"
   ]
  },
  {
   "cell_type": "markdown",
   "metadata": {
    "slideshow": {
     "slide_type": "slide"
    }
   },
   "source": [
    "# Quantum Implementation of a Free Particle\n",
    "\n",
    "Before moving on, let's implement a particle with $V=0$, the Free particle with periodic boundary conditions. We will start with the particle in the $|01 \\rangle$ section. \n",
    "\n",
    "<img src=\"Tunneling Images/Space Line 2.png\">"
   ]
  },
  {
   "cell_type": "markdown",
   "metadata": {
    "slideshow": {
     "slide_type": "fragment"
    }
   },
   "source": [
    "Because of the boundary conditions, is basicaly a repeating peak.\n",
    "\n",
    "\n",
    "<img src=\"Tunneling Images/periodic free particle.png\">"
   ]
  },
  {
   "cell_type": "code",
   "execution_count": 3,
   "metadata": {},
   "outputs": [
    {
     "name": "stdout",
     "output_type": "stream",
     "text": [
      "Imports complete.\n"
     ]
    }
   ],
   "source": [
    "#%matplotlib notebook\n",
    "\n",
    "import numpy as np\n",
    "from numpy import pi\n",
    "import matplotlib.pyplot as plt\n",
    "from mpl_toolkits import mplot3d\n",
    "import mpl_toolkits.mplot3d.art3d as art3d\n",
    "\n",
    "# Preamble\n",
    "import qiskit\n",
    "qiskit.__version__\n",
    "from qiskit import *\n",
    "\n",
    "from qiskit.visualization import plot_bloch_multivector, plot_histogram\n",
    "from qiskit_aer import AerSimulator\n",
    "from qiskit.quantum_info import Statevector\n",
    "import matplotlib.pyplot as plt\n",
    "\n",
    "import numpy as np\n",
    "from math import pi\n",
    "import math as m\n",
    "\n",
    "%matplotlib inline\n",
    "\n",
    "from IPython.display import Image ## For displaying Images\n",
    "\n",
    "print(\"Imports complete.\")"
   ]
  },
  {
   "cell_type": "markdown",
   "metadata": {
    "slideshow": {
     "slide_type": "subslide"
    }
   },
   "source": [
    "First, we create our functions for the fourier and inverse fourier transform."
   ]
  },
  {
   "cell_type": "code",
   "execution_count": 4,
   "metadata": {
    "slideshow": {
     "slide_type": "fragment"
    }
   },
   "outputs": [
    {
     "data": {
      "image/png": "[encoded data removed]",
      "text/plain": [
       "<Figure size 621.739x200.667 with 1 Axes>"
      ]
     },
     "execution_count": 4,
     "metadata": {},
     "output_type": "execute_result"
    },
    {
     "data": {
      "image/png": "[encoded data removed]",
      "text/plain": [
       "<Figure size 621.739x200.667 with 1 Axes>"
      ]
     },
     "metadata": {},
     "output_type": "display_data"
    }
   ],
   "source": [
    "# Defining QFT and inverse\n",
    "\n",
    "def F(qc):\n",
    "    qc.h(0)\n",
    "    qc.cp(m.pi/2, 1, 0)\n",
    "    qc.h(1)\n",
    "    qc.swap(0,1) # if using this, first H acts on 1\n",
    "    qc.barrier()\n",
    "    return qc\n",
    "\n",
    "def F_inv(qc):\n",
    "    qc.swap(0,1)\n",
    "    qc.h(1)\n",
    "    qc.cp(-m.pi/2, 0, 1)\n",
    "    qc.h(0)\n",
    "    qc.barrier()\n",
    "    return qc  \n",
    "\n",
    "\n",
    "qc_F = QuantumCircuit(2)\n",
    "F(qc_F)\n",
    "qc_F.draw(output='mpl')\n"
   ]
  },
  {
   "cell_type": "markdown",
   "metadata": {
    "slideshow": {
     "slide_type": "subslide"
    }
   },
   "source": [
    "We next will define $D$, our gate that is the kinetic portion of the Hamiltonian. \n",
    "\n",
    "\n",
    "<img src=\"Tunneling Images/D gate.png\">"
   ]
  },
  {
   "cell_type": "code",
   "execution_count": 5,
   "metadata": {
    "slideshow": {
     "slide_type": "fragment"
    }
   },
   "outputs": [],
   "source": [
    "# Defining the diagonal e^{-iKt} matrix\n",
    "def D(qc, theta0, theta1, theta2):\n",
    "    \"\"\"Apply the D operation\"\"\"\n",
    "    qc.rz(theta0, 0)\n",
    "    qc.rz(theta1, 1)\n",
    "    qc.cp(theta2, 1,0) \n",
    "    qc.barrier()\n",
    "    return qc"
   ]
  },
  {
   "cell_type": "markdown",
   "metadata": {
    "slideshow": {
     "slide_type": "subslide"
    }
   },
   "source": [
    "Now, we will define some parameters and then we will run the evolution.\n",
    "\n",
    "Here, we will only run one time step. Note that since $V=0$, we have that $[K,V]$ commutes, so we should expect that running two joined circuits with $t_1 + t_2 = T$ should give the same result as just running one circuit at $T$. \n",
    "\n",
    "We will start in the state $|01\\rangle$, so we apply an $X$ gate onto qubit 1."
   ]
  },
  {
   "cell_type": "code",
   "execution_count": 6,
   "metadata": {
    "slideshow": {
     "slide_type": "subslide"
    }
   },
   "outputs": [
    {
     "data": {
      "image/png": "[encoded data removed]",
      "text/plain": [
       "<Figure size 1894.14x284.278 with 1 Axes>"
      ]
     },
     "execution_count": 6,
     "metadata": {},
     "output_type": "execute_result"
    },
    {
     "data": {
      "image/png": "[encoded data removed]",
      "text/plain": [
       "<Figure size 1894.14x284.278 with 1 Axes>"
      ]
     },
     "metadata": {},
     "output_type": "display_data"
    }
   ],
   "source": [
    "# Setting the parameters for the system\n",
    "delta_t = 3./10 \n",
    "theta0 = -m.pi*m.pi*delta_t\n",
    "theta1 = -m.pi*m.pi*delta_t/4\n",
    "theta2 = m.pi*m.pi*delta_t\n",
    "\n",
    "# Initializing the circuit\n",
    "# Create the quantum circuit\n",
    "qr = QuantumRegister(2) #the qubits needed\n",
    "cr = ClassicalRegister(2) #for the measurement\n",
    "qc = QuantumCircuit(qr, cr) #creating the quantum circuit\n",
    "\n",
    "# We create an initial state, making our |psi(x, 0)> = |01>\n",
    "qc.x(1)\n",
    "qc.barrier()\n",
    "\n",
    "# Let's apply the kinetic evolution\n",
    "F(qc)\n",
    "D(qc, theta0, theta1, theta2)\n",
    "F_inv(qc)\n",
    "\n",
    "qc.swap(0,1) \n",
    "# We apply a swap so that the results are easier to read. \n",
    "# The histogram gives us results |q_0 q_1> = |00>, |10>, |01>, |11>.\n",
    "# But our order in discrete space is |00>, |01>, |10>, |11>\n",
    "# We thus apply a swap because it makes the result easier to read.\n",
    "\n",
    "# Now let's apply a measurement.\n",
    "qc.measure( qr , cr )\n",
    "\n",
    "# Let's draw out the circuit to see what's happening.\n",
    "qc.draw(output='mpl')"
   ]
  },
  {
   "cell_type": "code",
   "execution_count": 7,
   "metadata": {
    "slideshow": {
     "slide_type": "fragment"
    }
   },
   "outputs": [
    {
     "data": {
      "image/png": "[encoded data removed]",
      "text/plain": [
       "<Figure size 640x480 with 1 Axes>"
      ]
     },
     "metadata": {},
     "output_type": "display_data"
    },
    {
     "data": {
      "image/png": "[encoded data removed]",
      "text/plain": [
       "<Figure size 640x480 with 1 Axes>"
      ]
     },
     "metadata": {},
     "output_type": "display_data"
    }
   ],
   "source": [
    "# run with classical simulator\n",
    "result = AerSimulator().run(qc).result()\n",
    "# collect stats\n",
    "statistics = result.get_counts()\n",
    "# plot\n",
    "display(plot_histogram(statistics))  "
   ]
  },
  {
   "cell_type": "markdown",
   "metadata": {
    "slideshow": {
     "slide_type": "slide"
    }
   },
   "source": [
    "# The Potential Term\n",
    "\n",
    "We will now move on with our discussion and look at the potential term. The kinetic term was diagonal in the momentum basis, but the potential term is diagonal in the position basis. "
   ]
  },
  {
   "cell_type": "markdown",
   "metadata": {
    "slideshow": {
     "slide_type": "fragment"
    }
   },
   "source": [
    "Since we've already decided to have individual qubit states represent discrete spaces, this does not require any special transformation. "
   ]
  },
  {
   "cell_type": "markdown",
   "metadata": {
    "slideshow": {
     "slide_type": "subslide"
    }
   },
   "source": [
    "In general, the potentials can be very complicated, but for this example, we consider a double well. \n",
    "\n",
    "\n",
    "<img src=\"Tunneling Images/Double Well Start.png\">"
   ]
  },
  {
   "cell_type": "markdown",
   "metadata": {
    "slideshow": {
     "slide_type": "fragment"
    }
   },
   "source": [
    "Then, our potential operator can be written as:\n",
    "\n",
    "$$V = \\begin{bmatrix} +V_0 & 0 & 0 & 0 \\\\ 0 & -V_0 & 0 & 0 \\\\ 0 & 0 & +V_0 & 0 \\\\ 0 & 0 & 0 & -V_0 \\end{bmatrix}$$\n",
    "\n",
    "We have a barrier in the $|00 \\rangle$ and $|10 \\rangle$ spots."
   ]
  },
  {
   "cell_type": "markdown",
   "metadata": {
    "slideshow": {
     "slide_type": "fragment"
    }
   },
   "source": [
    "The resulting exponential, $e^{-iV\\Delta t}$, would then be:\n",
    "\n",
    "$$V = \\begin{bmatrix} e^{-iV_0\\Delta t} & 0 & 0 & 0 \\\\ 0 & e^{+iV_0\\Delta t} & 0 & 0 \\\\ 0 & 0 & e^{-iV_0\\Delta t} & 0 \\\\ 0 & 0 & 0 & e^{+iV_0\\Delta t} \\end{bmatrix}$$\n"
   ]
  },
  {
   "cell_type": "markdown",
   "metadata": {
    "slideshow": {
     "slide_type": "subslide"
    }
   },
   "source": [
    "Recall that: \n",
    "\n",
    "$$ R_z(\\phi) = \\begin{bmatrix} 1 & 0 \\\\ 0 & e^{i\\phi}\\end{bmatrix} $$\n"
   ]
  },
  {
   "cell_type": "markdown",
   "metadata": {
    "slideshow": {
     "slide_type": "fragment"
    }
   },
   "source": [
    "Consider the operation $ I \\otimes R_z(\\phi) $\n",
    "\n",
    "$$ I \\otimes R_z(\\phi) = \\begin{bmatrix}  1 & 0 \\\\ 0 & 1 \\end{bmatrix}\\otimes \\begin{bmatrix}  1 & 0 \\\\ 0 & e^{i\\phi}\\end{bmatrix} = \\begin{bmatrix} 1 & 0 & 0 & 0 \\\\ 0 & e^{i\\phi} & 0 & 0 \\\\ 0 & 0 & 1 & 0 \\\\ 0 & 0 & 0 & e^{i\\phi}\\end{bmatrix}$$\n",
    "\n",
    "We can allow for a shift by a global phase, so by setting $\\phi = 2V_0 \\Delta t$, we effectively achieve the potential shown. \n",
    "\n",
    "$$ \\begin{bmatrix} 1 & 0 & 0 & 0 \\\\ 0 & e^{i\\phi} & 0 & 0 \\\\ 0 & 0 & 1 & 0 \\\\ 0 & 0 & 0 & e^{i\\phi}\\end{bmatrix} = e^{+iV_0\\Delta t}\\begin{bmatrix} e^{-iV_0\\Delta t} & 0 & 0 & 0 \\\\ 0 & e^{+iV_0\\Delta t} & 0 & 0 \\\\ 0 & 0 & e^{-iV_0\\Delta t} & 0 \\\\ 0 & 0 & 0 & e^{+iV_0\\Delta t} \\end{bmatrix} $$"
   ]
  },
  {
   "cell_type": "markdown",
   "metadata": {
    "slideshow": {
     "slide_type": "slide"
    }
   },
   "source": [
    "Let's now do this in Qiskit!"
   ]
  },
  {
   "cell_type": "markdown",
   "metadata": {
    "slideshow": {
     "slide_type": "subslide"
    }
   },
   "source": [
    "Let's define two functions. One for applying the potential, and another for the full evolution. We use $D$ from before!"
   ]
  },
  {
   "cell_type": "code",
   "execution_count": 26,
   "metadata": {
    "slideshow": {
     "slide_type": "fragment"
    }
   },
   "outputs": [],
   "source": [
    "def V(qc, v_0, delta_t):\n",
    "    \"\"\"Write in the function to apply the potential term\"\"\"\n",
    "    qc.rz(2*v_0*delta_t, 1) \n",
    "    qc.barrier()\n",
    "    return qc\n",
    "\n",
    "# This function will do the full evolution!\n",
    "def apply_evo(qc, v_0, delta_t, theta0, theta1, theta2):\n",
    "    \"\"\"Write in the function to apply the full evolution.\"\"\"\n",
    "    F(qc)\n",
    "    D(qc, theta0, theta1, theta2)\n",
    "    F_inv(qc)\n",
    "    V(qc, v_0, delta_t)\n",
    "    qc.barrier()\n",
    "    return qc\n"
   ]
  },
  {
   "cell_type": "code",
   "execution_count": 29,
   "metadata": {
    "slideshow": {
     "slide_type": "subslide"
    }
   },
   "outputs": [
    {
     "data": {
      "image/png": "[encoded data removed]",
      "text/plain": [
       "<Figure size 640x480 with 1 Axes>"
      ]
     },
     "execution_count": 29,
     "metadata": {},
     "output_type": "execute_result"
    },
    {
     "data": {
      "image/png": "[encoded data removed]",
      "text/plain": [
       "<Figure size 640x480 with 1 Axes>"
      ]
     },
     "metadata": {},
     "output_type": "display_data"
    }
   ],
   "source": [
    "# Necessary Constants and parameters\n",
    "delta_t = 1 / 10\n",
    "theta0 = -m.pi*m.pi*delta_t\n",
    "theta1 = -m.pi*m.pi*delta_t/4\n",
    "theta2 = m.pi*m.pi*delta_t\n",
    "time_steps = 10\n",
    "v_0 = 10.\n",
    "\n",
    "# Initializing the circuit\n",
    "# Create the quantum and classical register, and then the circuit.\n",
    "qr = QuantumRegister(2) #the qubits needed\n",
    "cr = ClassicalRegister(2) #for the measurement\n",
    "qc2 = QuantumCircuit(qr, cr) #creating the quantum circuit\n",
    "\n",
    "# Create the initial state. We start in |01>\n",
    "qc2.x(1) \n",
    "qc2.barrier()\n",
    "\n",
    "# We will apply the steps with a loop so we can\n",
    "# indicate the number of time steps. \n",
    "\n",
    "i = 0\n",
    "while i < time_steps:\n",
    "    apply_evo(qc2, v_0, delta_t, theta0, theta1, theta2)\n",
    "    i+=1\n",
    "\n",
    "\n",
    "qc2.swap(0,1)\n",
    "# This swap is applied for he same reason as above\n",
    "\n",
    "qc2.measure( qr , cr )\n",
    "\n",
    "#print(qc2.draw())\n",
    "\n",
    "result = AerSimulator().run(qc2).result()\n",
    "# collect stats\n",
    "statistics = result.get_counts()\n",
    "\n",
    "plot_histogram(statistics, title = \"V_0 = \" + str(v_0) + \", delta t = \" + str(delta_t) + \", time steps = \" + str(time_steps))"
   ]
  },
  {
   "cell_type": "markdown",
   "metadata": {
    "slideshow": {
     "slide_type": "subslide"
    }
   },
   "source": [
    "In tutorial, you can explore longer time steps, more time steps, etc. When we use one $t$ step, we will be closer to just being in $|01\\rangle$."
   ]
  },
  {
   "cell_type": "markdown",
   "metadata": {
    "slideshow": {
     "slide_type": "slide"
    }
   },
   "source": [
    "# Some Outlook\n",
    "\n",
    "Quantum simulation of all sorts is a very active area of research in quantum computing! In this lecture, we considered only the quantum tunneling of a double well.\n",
    "\n",
    "Some project ideas:\n",
    "- Quantum Tunneling for triple, quadruple, quintuple (etc.) well\n",
    "- Other potentials (Harmonic Oscillator, Step Potential)"
   ]
  },
  {
   "cell_type": "markdown",
   "metadata": {
    "slideshow": {
     "slide_type": "skip"
    }
   },
   "source": [
    "## References\n",
    "\n",
    "https://www.nature.com/articles/srep02232.pdf\n",
    "\n",
    "\n",
    "https://arxiv.org/pdf/1712.07326.pdf\n",
    "\n"
   ]
  },
  {
   "cell_type": "code",
   "execution_count": 1,
   "metadata": {},
   "outputs": [],
   "source": []
  },
  {
   "cell_type": "code",
   "execution_count": null,
   "metadata": {},
   "outputs": [],
   "source": []
  }
 ],
 "metadata": {
  "celltoolbar": "Slideshow",
  "colab": {
   "collapsed_sections": [],
   "name": "Ising Model on a QC.ipynb",
   "provenance": [],
   "toc_visible": true
  },
  "kernelspec": {
   "display_name": "Python 3 (ipykernel)",
   "language": "python",
   "name": "python3"
  },
  "language_info": {
   "codemirror_mode": {
    "name": "ipython",
    "version": 3
   },
   "file_extension": ".py",
   "mimetype": "text/x-python",
   "name": "python",
   "nbconvert_exporter": "python",
   "pygments_lexer": "ipython3",
   "version": "3.11.5"
  },
  "rise": {
   "scroll": true
  }
 },
 "nbformat": 4,
 "nbformat_minor": 4
}
